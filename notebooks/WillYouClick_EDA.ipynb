{
 "cells": [
  {
   "cell_type": "markdown",
   "metadata": {},
   "source": [
    "## In this notebook we will explore the Facebook ads click dataset.\n",
    "***\n",
    "1. Explore the features\n",
    "2. Impute missing values if any\n",
    "3. Build some new features from the existing ones if needed\n",
    "4. Split the train and test set"
   ]
  },
  {
   "cell_type": "code",
   "execution_count": 12,
   "metadata": {},
   "outputs": [],
   "source": [
    "import pandas as pd\n",
    "import csv  # for finding delimiter\n",
    "import seaborn as sns\n",
    "import pickle\n",
    "from sklearn import metrics"
   ]
  },
  {
   "cell_type": "code",
   "execution_count": 12,
   "metadata": {},
   "outputs": [],
   "source": [
    "ad_click_dataset = pd.read_csv('../input/Facebook_Ads_2.csv', \n",
    "                               delimiter=',', encoding='ISO-8859-1') # the encoding is new"
   ]
  },
  {
   "cell_type": "code",
   "execution_count": 20,
   "metadata": {},
   "outputs": [
    {
     "data": {
      "text/plain": [
       "(499, 6)"
      ]
     },
     "execution_count": 20,
     "metadata": {},
     "output_type": "execute_result"
    }
   ],
   "source": [
    "ad_click_dataset.shape"
   ]
  },
  {
   "cell_type": "markdown",
   "metadata": {},
   "source": [
    "**Names and emails cannot be used in this case. We don't want the model to develop a bias towards these features.**\n",
    "* Country: can be treated as a categorical (nominal) variable\n",
    "* Time spent on site: apply minmax scaler\n",
    "* Salary: Not sure what salary means in this case, might want to scale this too"
   ]
  },
  {
   "cell_type": "code",
   "execution_count": 15,
   "metadata": {},
   "outputs": [],
   "source": [
    "clean_ad_click_dataset = ad_click_dataset.drop(['Names','emails'], axis=1,\n",
    "                                              inplace=False)"
   ]
  },
  {
   "cell_type": "code",
   "execution_count": 18,
   "metadata": {},
   "outputs": [
    {
     "data": {
      "text/html": [
       "<div>\n",
       "<style scoped>\n",
       "    .dataframe tbody tr th:only-of-type {\n",
       "        vertical-align: middle;\n",
       "    }\n",
       "\n",
       "    .dataframe tbody tr th {\n",
       "        vertical-align: top;\n",
       "    }\n",
       "\n",
       "    .dataframe thead th {\n",
       "        text-align: right;\n",
       "    }\n",
       "</style>\n",
       "<table border=\"1\" class=\"dataframe\">\n",
       "  <thead>\n",
       "    <tr style=\"text-align: right;\">\n",
       "      <th></th>\n",
       "      <th>Country</th>\n",
       "      <th>Time Spent on Site</th>\n",
       "      <th>Salary</th>\n",
       "      <th>Clicked</th>\n",
       "    </tr>\n",
       "  </thead>\n",
       "  <tbody>\n",
       "    <tr>\n",
       "      <th>0</th>\n",
       "      <td>Bulgaria</td>\n",
       "      <td>25.649648</td>\n",
       "      <td>55330.06006</td>\n",
       "      <td>0</td>\n",
       "    </tr>\n",
       "    <tr>\n",
       "      <th>1</th>\n",
       "      <td>Belize</td>\n",
       "      <td>32.456107</td>\n",
       "      <td>79049.07674</td>\n",
       "      <td>1</td>\n",
       "    </tr>\n",
       "    <tr>\n",
       "      <th>2</th>\n",
       "      <td>Algeria</td>\n",
       "      <td>20.945978</td>\n",
       "      <td>41098.60826</td>\n",
       "      <td>0</td>\n",
       "    </tr>\n",
       "    <tr>\n",
       "      <th>3</th>\n",
       "      <td>Cook Islands</td>\n",
       "      <td>54.039325</td>\n",
       "      <td>37143.35536</td>\n",
       "      <td>1</td>\n",
       "    </tr>\n",
       "    <tr>\n",
       "      <th>4</th>\n",
       "      <td>Brazil</td>\n",
       "      <td>34.249729</td>\n",
       "      <td>37355.11276</td>\n",
       "      <td>0</td>\n",
       "    </tr>\n",
       "  </tbody>\n",
       "</table>\n",
       "</div>"
      ],
      "text/plain": [
       "        Country  Time Spent on Site       Salary  Clicked\n",
       "0      Bulgaria           25.649648  55330.06006        0\n",
       "1        Belize           32.456107  79049.07674        1\n",
       "2       Algeria           20.945978  41098.60826        0\n",
       "3  Cook Islands           54.039325  37143.35536        1\n",
       "4        Brazil           34.249729  37355.11276        0"
      ]
     },
     "execution_count": 18,
     "metadata": {},
     "output_type": "execute_result"
    }
   ],
   "source": [
    "clean_ad_click_dataset.head()"
   ]
  },
  {
   "cell_type": "code",
   "execution_count": 19,
   "metadata": {},
   "outputs": [
    {
     "data": {
      "text/plain": [
       "array([[<matplotlib.axes._subplots.AxesSubplot object at 0x7f59b8e51710>,\n",
       "        <matplotlib.axes._subplots.AxesSubplot object at 0x7f59b8b35978>],\n",
       "       [<matplotlib.axes._subplots.AxesSubplot object at 0x7f59b8b54d68>,\n",
       "        <matplotlib.axes._subplots.AxesSubplot object at 0x7f59b8af3320>]],\n",
       "      dtype=object)"
      ]
     },
     "execution_count": 19,
     "metadata": {},
     "output_type": "execute_result"
    },
    {
     "data": {
      "image/png": "[encoded data removed]",
      "text/plain": [
       "<Figure size 432x432 with 4 Axes>"
      ]
     },
     "metadata": {
      "needs_background": "light"
     },
     "output_type": "display_data"
    }
   ],
   "source": [
    "clean_ad_click_dataset.hist(figsize=(6,6))"
   ]
  },
  {
   "cell_type": "markdown",
   "metadata": {},
   "source": [
    "**The target variable clicked looks evenly distributed(extremely rare!). Also the salary and time spent on site looks normally distributed.**"
   ]
  },
  {
   "cell_type": "code",
   "execution_count": 25,
   "metadata": {},
   "outputs": [
    {
     "data": {
      "text/plain": [
       "Country\n",
       "Mauritania                                      6\n",
       "Israel                                          6\n",
       "Bolivia                                         6\n",
       "Guinea                                          5\n",
       "Laos                                            5\n",
       "Iraq                                            5\n",
       "Liechtenstein                                   5\n",
       "Grenada                                         5\n",
       "Greenland                                       5\n",
       "Equatorial Guinea                               5\n",
       "Samoa                                           5\n",
       "Saint Barthélemy                                5\n",
       "Kyrgyzstan                                      5\n",
       "Algeria                                         5\n",
       "Armenia                                         5\n",
       "Bhutan                                          5\n",
       "Sao Tome and Principe                           4\n",
       "Venezuela                                       4\n",
       "Andorra                                         4\n",
       "Sierra Leone                                    4\n",
       "Guam                                            4\n",
       "Senegal                                         4\n",
       "Namibia                                         4\n",
       "French Polynesia                                4\n",
       "Saint Pierre and Miquelon                       4\n",
       "Egypt                                           4\n",
       "Madagascar                                      4\n",
       "Saint Vincent and The Grenadines                4\n",
       "Marshall Islands                                4\n",
       "Saint Kitts and Nevis                           4\n",
       "                                               ..\n",
       "Hungary                                         1\n",
       "Hong Kong                                       1\n",
       "Honduras                                        1\n",
       "Guyana                                          1\n",
       "Japan                                           1\n",
       "Sudan                                           1\n",
       "Kazakhstan                                      1\n",
       "Kenya                                           1\n",
       "Switzerland                                     1\n",
       "Taiwan                                          1\n",
       "Germany                                         1\n",
       "Georgia                                         1\n",
       "Tanzania                                        1\n",
       "Singapore                                       1\n",
       "United Kingdom (Great Britain)                  1\n",
       "Seychelles                                      1\n",
       "Lebanon                                         1\n",
       "Togo                                            1\n",
       "El Salvador                                     1\n",
       "Tonga                                           1\n",
       "Trinidad and Tobago                             1\n",
       "Saudi Arabia                                    1\n",
       "Denmark                                         1\n",
       "Malaysia                                        1\n",
       "South Georgia and The South Sandwich Islands    1\n",
       "Mali                                            1\n",
       "Saint Lucia                                     1\n",
       "Ukraine                                         1\n",
       "Saint Helena, Ascension and Tristan da Cunha    1\n",
       "Cook Islands                                    1\n",
       "Name: Country, Length: 210, dtype: int64"
      ]
     },
     "execution_count": 25,
     "metadata": {},
     "output_type": "execute_result"
    }
   ],
   "source": [
    "clean_ad_click_dataset.groupby(['Country'])['Country'].count().sort_values(ascending=False)"
   ]
  },
  {
   "cell_type": "code",
   "execution_count": 27,
   "metadata": {},
   "outputs": [
    {
     "data": {
      "text/plain": [
       "210"
      ]
     },
     "execution_count": 27,
     "metadata": {},
     "output_type": "execute_result"
    }
   ],
   "source": [
    "len(clean_ad_click_dataset['Country'].unique())"
   ]
  },
  {
   "cell_type": "code",
   "execution_count": 30,
   "metadata": {},
   "outputs": [
    {
     "data": {
      "text/plain": [
       "<matplotlib.axes._subplots.AxesSubplot at 0x7f59b20f69b0>"
      ]
     },
     "execution_count": 30,
     "metadata": {},
     "output_type": "execute_result"
    },
    {
     "data": {
      "image/png": "[encoded data removed]",
      "text/plain": [
       "<Figure size 432x288 with 2 Axes>"
      ]
     },
     "metadata": {
      "needs_background": "light"
     },
     "output_type": "display_data"
    }
   ],
   "source": [
    "sns.heatmap(ad_click_dataset.isnull(), cmap=\"Blues\", yticklabels=False)"
   ]
  },
  {
   "cell_type": "markdown",
   "metadata": {},
   "source": [
    "**No missing values.**"
   ]
  },
  {
   "cell_type": "markdown",
   "metadata": {},
   "source": [
    "**Analyze the train and test set created using the scripts**"
   ]
  },
  {
   "cell_type": "code",
   "execution_count": 54,
   "metadata": {},
   "outputs": [],
   "source": [
    "with open('../input/train_set.pickle', 'rb') as pickle_handle:\n",
    "    train_set = pickle.load(pickle_handle)"
   ]
  },
  {
   "cell_type": "code",
   "execution_count": 56,
   "metadata": {},
   "outputs": [
    {
     "data": {
      "text/plain": [
       "(400, 4)"
      ]
     },
     "execution_count": 56,
     "metadata": {},
     "output_type": "execute_result"
    }
   ],
   "source": [
    "train_set.shape"
   ]
  },
  {
   "cell_type": "code",
   "execution_count": 3,
   "metadata": {},
   "outputs": [],
   "source": [
    "with open('../input/test_set.pickle', 'rb') as pickle_handle:\n",
    "    test_set = pickle.load(pickle_handle)"
   ]
  },
  {
   "cell_type": "code",
   "execution_count": 4,
   "metadata": {},
   "outputs": [
    {
     "data": {
      "text/html": [
       "<div>\n",
       "<style scoped>\n",
       "    .dataframe tbody tr th:only-of-type {\n",
       "        vertical-align: middle;\n",
       "    }\n",
       "\n",
       "    .dataframe tbody tr th {\n",
       "        vertical-align: top;\n",
       "    }\n",
       "\n",
       "    .dataframe thead th {\n",
       "        text-align: right;\n",
       "    }\n",
       "</style>\n",
       "<table border=\"1\" class=\"dataframe\">\n",
       "  <thead>\n",
       "    <tr style=\"text-align: right;\">\n",
       "      <th></th>\n",
       "      <th>Clicked</th>\n",
       "      <th>Country_encoded</th>\n",
       "      <th>Salary_scaled</th>\n",
       "      <th>Time Spent on Site_scaled</th>\n",
       "    </tr>\n",
       "  </thead>\n",
       "  <tbody>\n",
       "    <tr>\n",
       "      <th>400</th>\n",
       "      <td>1</td>\n",
       "      <td>178</td>\n",
       "      <td>0.618133</td>\n",
       "      <td>0.629192</td>\n",
       "    </tr>\n",
       "    <tr>\n",
       "      <th>401</th>\n",
       "      <td>1</td>\n",
       "      <td>109</td>\n",
       "      <td>0.602633</td>\n",
       "      <td>0.598134</td>\n",
       "    </tr>\n",
       "    <tr>\n",
       "      <th>402</th>\n",
       "      <td>0</td>\n",
       "      <td>118</td>\n",
       "      <td>0.274976</td>\n",
       "      <td>0.434942</td>\n",
       "    </tr>\n",
       "    <tr>\n",
       "      <th>403</th>\n",
       "      <td>0</td>\n",
       "      <td>144</td>\n",
       "      <td>0.316949</td>\n",
       "      <td>0.391621</td>\n",
       "    </tr>\n",
       "    <tr>\n",
       "      <th>404</th>\n",
       "      <td>1</td>\n",
       "      <td>193</td>\n",
       "      <td>0.730379</td>\n",
       "      <td>0.873626</td>\n",
       "    </tr>\n",
       "  </tbody>\n",
       "</table>\n",
       "</div>"
      ],
      "text/plain": [
       "     Clicked  Country_encoded  Salary_scaled  Time Spent on Site_scaled\n",
       "400        1              178       0.618133                   0.629192\n",
       "401        1              109       0.602633                   0.598134\n",
       "402        0              118       0.274976                   0.434942\n",
       "403        0              144       0.316949                   0.391621\n",
       "404        1              193       0.730379                   0.873626"
      ]
     },
     "execution_count": 4,
     "metadata": {},
     "output_type": "execute_result"
    }
   ],
   "source": [
    "test_set.head()"
   ]
  },
  {
   "cell_type": "code",
   "execution_count": 17,
   "metadata": {},
   "outputs": [
    {
     "data": {
      "text/plain": [
       "array([[<matplotlib.axes._subplots.AxesSubplot object at 0x7f7540030f28>,\n",
       "        <matplotlib.axes._subplots.AxesSubplot object at 0x7f7540535630>],\n",
       "       [<matplotlib.axes._subplots.AxesSubplot object at 0x7f754030c0f0>,\n",
       "        <matplotlib.axes._subplots.AxesSubplot object at 0x7f753f51d358>]],\n",
       "      dtype=object)"
      ]
     },
     "execution_count": 17,
     "metadata": {},
     "output_type": "execute_result"
    },
    {
     "data": {
      "image/png": "[encoded data removed]",
      "text/plain": [
       "<Figure size 432x432 with 4 Axes>"
      ]
     },
     "metadata": {
      "needs_background": "light"
     },
     "output_type": "display_data"
    }
   ],
   "source": [
    "test_set.hist(figsize=(6,6))"
   ]
  },
  {
   "cell_type": "code",
   "execution_count": 8,
   "metadata": {},
   "outputs": [],
   "source": [
    "X_test = test_set.drop('Clicked', axis=1, inplace=False)\n",
    "y_test = test_set['Clicked']"
   ]
  },
  {
   "cell_type": "markdown",
   "metadata": {},
   "source": [
    "## We will use the model that gave the best performance on validation set.\n",
    "**It was the one from Fold 1**"
   ]
  },
  {
   "cell_type": "code",
   "execution_count": 6,
   "metadata": {},
   "outputs": [],
   "source": [
    "with open('../models/LR_Ad_click_Baseline_1.pickle', 'rb') as pickle_handle:\n",
    "    lr_model = pickle.load(pickle_handle)"
   ]
  },
  {
   "cell_type": "code",
   "execution_count": 11,
   "metadata": {},
   "outputs": [
    {
     "data": {
      "text/plain": [
       "array([[0.26211587, 0.73788413],\n",
       "       [0.31892855, 0.68107145],\n",
       "       [0.78615598, 0.21384402],\n",
       "       [0.78392137, 0.21607863],\n",
       "       [0.07010642, 0.92989358],\n",
       "       [0.17339614, 0.82660386],\n",
       "       [0.6470965 , 0.3529035 ],\n",
       "       [0.35413773, 0.64586227],\n",
       "       [0.42929931, 0.57070069],\n",
       "       [0.81489929, 0.18510071],\n",
       "       [0.56131974, 0.43868026],\n",
       "       [0.3337429 , 0.6662571 ],\n",
       "       [0.68399042, 0.31600958],\n",
       "       [0.78195437, 0.21804563],\n",
       "       [0.85420184, 0.14579816]])"
      ]
     },
     "execution_count": 11,
     "metadata": {},
     "output_type": "execute_result"
    }
   ],
   "source": [
    "# this function gives the soft probability score for each class\n",
    "lr_model.predict_proba(X_test[:15])"
   ]
  },
  {
   "cell_type": "code",
   "execution_count": 14,
   "metadata": {},
   "outputs": [],
   "source": [
    "# lets get all the predictions\n",
    "prediction = lr_model.predict(X_test)"
   ]
  },
  {
   "cell_type": "markdown",
   "metadata": {},
   "source": [
    "### Confusion Matrix\n",
    "- **True Positive (TP)**: You predict that the user clicks on the Ad and it does\n",
    "- **True Negative (TN)**: You predict that the user does not click on the Ad and it is not\n",
    "- **False Positive (FP)**: You predict that the user clicks on the Ad, but the user does not, also known as Type 1 error\n",
    "- **False Negative (FN)**: You predict that the user does not click on the Ad, but the user does, also known as Type 2 error\n",
    "\n",
    "<img src='https://computersciencesource.files.wordpress.com/2010/01/conmat.png'>"
   ]
  },
  {
   "cell_type": "code",
   "execution_count": 15,
   "metadata": {},
   "outputs": [
    {
     "name": "stdout",
     "output_type": "stream",
     "text": [
      "[[51  4]\n",
      " [ 3 41]]\n"
     ]
    }
   ],
   "source": [
    "print(metrics.confusion_matrix(y_test, prediction))"
   ]
  },
  {
   "cell_type": "markdown",
   "metadata": {},
   "source": [
    "### Classification Report (Precision/Recall)\n",
    "- **Precision**: Focuses on your predictions. It is measuring what fraction of your predictions for the positive class are valid. It is formulated by (TP/TP+FP).\n",
    "- **Recall**: Focuses on all of the possible positive classes. It's telling you how often your predictions actually capture the positive class. It is formulated by (TP/TP+FN).\n",
    "- **F1-Score**: Tells you the accuracy of the classifier in classifying the data points in that particular class compared to all other class. It is calculated by taking the harmonic mean of precision and recall.\n",
    "- **Support**: The support is the number of samples of the true response that lies in that class.\n"
   ]
  },
  {
   "cell_type": "code",
   "execution_count": 18,
   "metadata": {},
   "outputs": [
    {
     "name": "stdout",
     "output_type": "stream",
     "text": [
      "              precision    recall  f1-score   support\n",
      "\n",
      "           0       0.94      0.93      0.94        55\n",
      "           1       0.91      0.93      0.92        44\n",
      "\n",
      "    accuracy                           0.93        99\n",
      "   macro avg       0.93      0.93      0.93        99\n",
      "weighted avg       0.93      0.93      0.93        99\n",
      "\n"
     ]
    }
   ],
   "source": [
    "print(metrics.classification_report(y_test, prediction))"
   ]
  },
  {
   "cell_type": "markdown",
   "metadata": {},
   "source": [
    "**Logistic Regression Equation**: log(p/1−p)=β0+β1x\n",
    "- Log-odds of a categorical response being \"true\" (1) is modeled as a linear combination of the features:\n",
    "\n",
    "**Summary:**\n",
    "- Logistic regression outputs the probabilities of a specific class\n",
    "- Those probabilities can be converted into class predictions\n",
    "- It squishes the linear regression line into an \"s\" shape\n",
    "- Output is bounded by 0 and 1\n",
    "- Loss function: log loss"
   ]
  }
 ],
 "metadata": {
  "kernelspec": {
   "display_name": "Python 3",
   "language": "python",
   "name": "python3"
  },
  "language_info": {
   "codemirror_mode": {
    "name": "ipython",
    "version": 3
   },
   "file_extension": ".py",
   "mimetype": "text/x-python",
   "name": "python",
   "nbconvert_exporter": "python",
   "pygments_lexer": "ipython3",
   "version": "3.6.12"
  }
 },
 "nbformat": 4,
 "nbformat_minor": 4
}
