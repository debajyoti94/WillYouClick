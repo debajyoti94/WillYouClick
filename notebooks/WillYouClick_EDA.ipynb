{
 "cells": [
  {
   "cell_type": "markdown",
   "metadata": {},
   "source": [
    "## In this notebook we will explore the Facebook ads click dataset.\n",
    "***\n",
    "1. Explore the features\n",
    "2. Impute missing values if any\n",
    "3. Build some new features from the existing ones if needed\n",
    "4. Split the train and test set"
   ]
  },
  {
   "cell_type": "code",
   "execution_count": 49,
   "metadata": {},
   "outputs": [],
   "source": [
    "import pandas as pd\n",
    "import csv  # for finding delimiter\n",
    "import seaborn as sns\n",
    "import pickle"
   ]
  },
  {
   "cell_type": "code",
   "execution_count": 12,
   "metadata": {},
   "outputs": [],
   "source": [
    "ad_click_dataset = pd.read_csv('../input/Facebook_Ads_2.csv', \n",
    "                               delimiter=',', encoding='ISO-8859-1') # the encoding is new"
   ]
  },
  {
   "cell_type": "code",
   "execution_count": 20,
   "metadata": {},
   "outputs": [
    {
     "data": {
      "text/plain": [
       "(499, 6)"
      ]
     },
     "execution_count": 20,
     "metadata": {},
     "output_type": "execute_result"
    }
   ],
   "source": [
    "ad_click_dataset.shape"
   ]
  },
  {
   "cell_type": "markdown",
   "metadata": {},
   "source": [
    "**Names and emails cannot be used in this case. We don't want the model to develop a bias towards these features.**\n",
    "* Country: can be treated as a categorical (nominal) variable\n",
    "* Time spent on site: apply minmax scaler\n",
    "* Salary: Not sure what salary means in this case, might want to scale this too"
   ]
  },
  {
   "cell_type": "code",
   "execution_count": 15,
   "metadata": {},
   "outputs": [],
   "source": [
    "clean_ad_click_dataset = ad_click_dataset.drop(['Names','emails'], axis=1,\n",
    "                                              inplace=False)"
   ]
  },
  {
   "cell_type": "code",
   "execution_count": 18,
   "metadata": {},
   "outputs": [
    {
     "data": {
      "text/html": [
       "<div>\n",
       "<style scoped>\n",
       "    .dataframe tbody tr th:only-of-type {\n",
       "        vertical-align: middle;\n",
       "    }\n",
       "\n",
       "    .dataframe tbody tr th {\n",
       "        vertical-align: top;\n",
       "    }\n",
       "\n",
       "    .dataframe thead th {\n",
       "        text-align: right;\n",
       "    }\n",
       "</style>\n",
       "<table border=\"1\" class=\"dataframe\">\n",
       "  <thead>\n",
       "    <tr style=\"text-align: right;\">\n",
       "      <th></th>\n",
       "      <th>Country</th>\n",
       "      <th>Time Spent on Site</th>\n",
       "      <th>Salary</th>\n",
       "      <th>Clicked</th>\n",
       "    </tr>\n",
       "  </thead>\n",
       "  <tbody>\n",
       "    <tr>\n",
       "      <th>0</th>\n",
       "      <td>Bulgaria</td>\n",
       "      <td>25.649648</td>\n",
       "      <td>55330.06006</td>\n",
       "      <td>0</td>\n",
       "    </tr>\n",
       "    <tr>\n",
       "      <th>1</th>\n",
       "      <td>Belize</td>\n",
       "      <td>32.456107</td>\n",
       "      <td>79049.07674</td>\n",
       "      <td>1</td>\n",
       "    </tr>\n",
       "    <tr>\n",
       "      <th>2</th>\n",
       "      <td>Algeria</td>\n",
       "      <td>20.945978</td>\n",
       "      <td>41098.60826</td>\n",
       "      <td>0</td>\n",
       "    </tr>\n",
       "    <tr>\n",
       "      <th>3</th>\n",
       "      <td>Cook Islands</td>\n",
       "      <td>54.039325</td>\n",
       "      <td>37143.35536</td>\n",
       "      <td>1</td>\n",
       "    </tr>\n",
       "    <tr>\n",
       "      <th>4</th>\n",
       "      <td>Brazil</td>\n",
       "      <td>34.249729</td>\n",
       "      <td>37355.11276</td>\n",
       "      <td>0</td>\n",
       "    </tr>\n",
       "  </tbody>\n",
       "</table>\n",
       "</div>"
      ],
      "text/plain": [
       "        Country  Time Spent on Site       Salary  Clicked\n",
       "0      Bulgaria           25.649648  55330.06006        0\n",
       "1        Belize           32.456107  79049.07674        1\n",
       "2       Algeria           20.945978  41098.60826        0\n",
       "3  Cook Islands           54.039325  37143.35536        1\n",
       "4        Brazil           34.249729  37355.11276        0"
      ]
     },
     "execution_count": 18,
     "metadata": {},
     "output_type": "execute_result"
    }
   ],
   "source": [
    "clean_ad_click_dataset.head()"
   ]
  },
  {
   "cell_type": "code",
   "execution_count": 19,
   "metadata": {},
   "outputs": [
    {
     "data": {
      "text/plain": [
       "array([[<matplotlib.axes._subplots.AxesSubplot object at 0x7f59b8e51710>,\n",
       "        <matplotlib.axes._subplots.AxesSubplot object at 0x7f59b8b35978>],\n",
       "       [<matplotlib.axes._subplots.AxesSubplot object at 0x7f59b8b54d68>,\n",
       "        <matplotlib.axes._subplots.AxesSubplot object at 0x7f59b8af3320>]],\n",
       "      dtype=object)"
      ]
     },
     "execution_count": 19,
     "metadata": {},
     "output_type": "execute_result"
    },
    {
     "data": {
      "image/png": "[encoded data removed]",
      "text/plain": [
       "<Figure size 432x432 with 4 Axes>"
      ]
     },
     "metadata": {
      "needs_background": "light"
     },
     "output_type": "display_data"
    }
   ],
   "source": [
    "clean_ad_click_dataset.hist(figsize=(6,6))"
   ]
  },
  {
   "cell_type": "markdown",
   "metadata": {},
   "source": [
    "**The target variable clicked looks evenly distributed(extremely rare!). Also the salary and time spent on site looks normally distributed.**"
   ]
  },
  {
   "cell_type": "code",
   "execution_count": 25,
   "metadata": {},
   "outputs": [
    {
     "data": {
      "text/plain": [
       "Country\n",
       "Mauritania                                      6\n",
       "Israel                                          6\n",
       "Bolivia                                         6\n",
       "Guinea                                          5\n",
       "Laos                                            5\n",
       "Iraq                                            5\n",
       "Liechtenstein                                   5\n",
       "Grenada                                         5\n",
       "Greenland                                       5\n",
       "Equatorial Guinea                               5\n",
       "Samoa                                           5\n",
       "Saint Barthélemy                                5\n",
       "Kyrgyzstan                                      5\n",
       "Algeria                                         5\n",
       "Armenia                                         5\n",
       "Bhutan                                          5\n",
       "Sao Tome and Principe                           4\n",
       "Venezuela                                       4\n",
       "Andorra                                         4\n",
       "Sierra Leone                                    4\n",
       "Guam                                            4\n",
       "Senegal                                         4\n",
       "Namibia                                         4\n",
       "French Polynesia                                4\n",
       "Saint Pierre and Miquelon                       4\n",
       "Egypt                                           4\n",
       "Madagascar                                      4\n",
       "Saint Vincent and The Grenadines                4\n",
       "Marshall Islands                                4\n",
       "Saint Kitts and Nevis                           4\n",
       "                                               ..\n",
       "Hungary                                         1\n",
       "Hong Kong                                       1\n",
       "Honduras                                        1\n",
       "Guyana                                          1\n",
       "Japan                                           1\n",
       "Sudan                                           1\n",
       "Kazakhstan                                      1\n",
       "Kenya                                           1\n",
       "Switzerland                                     1\n",
       "Taiwan                                          1\n",
       "Germany                                         1\n",
       "Georgia                                         1\n",
       "Tanzania                                        1\n",
       "Singapore                                       1\n",
       "United Kingdom (Great Britain)                  1\n",
       "Seychelles                                      1\n",
       "Lebanon                                         1\n",
       "Togo                                            1\n",
       "El Salvador                                     1\n",
       "Tonga                                           1\n",
       "Trinidad and Tobago                             1\n",
       "Saudi Arabia                                    1\n",
       "Denmark                                         1\n",
       "Malaysia                                        1\n",
       "South Georgia and The South Sandwich Islands    1\n",
       "Mali                                            1\n",
       "Saint Lucia                                     1\n",
       "Ukraine                                         1\n",
       "Saint Helena, Ascension and Tristan da Cunha    1\n",
       "Cook Islands                                    1\n",
       "Name: Country, Length: 210, dtype: int64"
      ]
     },
     "execution_count": 25,
     "metadata": {},
     "output_type": "execute_result"
    }
   ],
   "source": [
    "clean_ad_click_dataset.groupby(['Country'])['Country'].count().sort_values(ascending=False)"
   ]
  },
  {
   "cell_type": "code",
   "execution_count": 27,
   "metadata": {},
   "outputs": [
    {
     "data": {
      "text/plain": [
       "210"
      ]
     },
     "execution_count": 27,
     "metadata": {},
     "output_type": "execute_result"
    }
   ],
   "source": [
    "len(clean_ad_click_dataset['Country'].unique())"
   ]
  },
  {
   "cell_type": "code",
   "execution_count": 30,
   "metadata": {},
   "outputs": [
    {
     "data": {
      "text/plain": [
       "<matplotlib.axes._subplots.AxesSubplot at 0x7f59b20f69b0>"
      ]
     },
     "execution_count": 30,
     "metadata": {},
     "output_type": "execute_result"
    },
    {
     "data": {
      "image/png": "[encoded data removed]",
      "text/plain": [
       "<Figure size 432x288 with 2 Axes>"
      ]
     },
     "metadata": {
      "needs_background": "light"
     },
     "output_type": "display_data"
    }
   ],
   "source": [
    "sns.heatmap(ad_click_dataset.isnull(), cmap=\"Blues\", yticklabels=False)"
   ]
  },
  {
   "cell_type": "markdown",
   "metadata": {},
   "source": [
    "**No missing values.**"
   ]
  },
  {
   "cell_type": "markdown",
   "metadata": {},
   "source": [
    "**Split the dataset into train and test**"
   ]
  },
  {
   "cell_type": "code",
   "execution_count": 41,
   "metadata": {},
   "outputs": [],
   "source": [
    "# shuffle the rows in the dataset\n",
    "shuffled_dataset = ad_click_dataset.sample(frac=1, random_state=0).reset_index(drop=True)"
   ]
  },
  {
   "cell_type": "code",
   "execution_count": 43,
   "metadata": {},
   "outputs": [],
   "source": [
    "train_set = shuffled_dataset[:400]"
   ]
  },
  {
   "cell_type": "code",
   "execution_count": 46,
   "metadata": {},
   "outputs": [],
   "source": [
    "test_set = shuffled_dataset[400:]"
   ]
  },
  {
   "cell_type": "code",
   "execution_count": 48,
   "metadata": {},
   "outputs": [
    {
     "data": {
      "text/plain": [
       "(99, 6)"
      ]
     },
     "execution_count": 48,
     "metadata": {},
     "output_type": "execute_result"
    }
   ],
   "source": [
    "test_set.shape"
   ]
  },
  {
   "cell_type": "code",
   "execution_count": 51,
   "metadata": {},
   "outputs": [],
   "source": [
    "with open('../input/train_set.pickle', 'wb') as pickle_handle:\n",
    "    pickle.dump(train_set, pickle_handle)"
   ]
  },
  {
   "cell_type": "code",
   "execution_count": 52,
   "metadata": {},
   "outputs": [],
   "source": [
    "with open('../input/test_set.pickle', 'wb') as pickle_handle:\n",
    "    pickle.dump(test_set, pickle_handle)"
   ]
  }
 ],
 "metadata": {
  "kernelspec": {
   "display_name": "Python 3",
   "language": "python",
   "name": "python3"
  },
  "language_info": {
   "codemirror_mode": {
    "name": "ipython",
    "version": 3
   },
   "file_extension": ".py",
   "mimetype": "text/x-python",
   "name": "python",
   "nbconvert_exporter": "python",
   "pygments_lexer": "ipython3",
   "version": "3.6.12"
  }
 },
 "nbformat": 4,
 "nbformat_minor": 4
}
